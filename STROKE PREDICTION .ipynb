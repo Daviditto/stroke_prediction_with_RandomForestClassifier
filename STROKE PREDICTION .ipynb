{
 "cells": [
  {
   "cell_type": "code",
   "execution_count": 312,
   "id": "60510e81-c6f4-4f89-97a6-9d31359a6f38",
   "metadata": {},
   "outputs": [],
   "source": [
    "import pandas as pd\n",
    "import numpy as np\n",
    "import matplotlib.pyplot as plt\n",
    "import seaborn as sns"
   ]
  },
  {
   "cell_type": "markdown",
   "id": "3f38d1e8-f9b0-4fe5-b00e-e8f9ec74f9be",
   "metadata": {},
   "source": [
    "# DATA exploring "
   ]
  },
  {
   "cell_type": "code",
   "execution_count": 313,
   "id": "1b4b475f-a5c4-4d3c-a600-4fdb6cf26ac7",
   "metadata": {},
   "outputs": [],
   "source": [
    "df= pd.read_csv('stroke_data.csv')"
   ]
  },
  {
   "cell_type": "code",
   "execution_count": 314,
   "id": "22464216-4bd3-42b7-b15b-a907cf0ee64c",
   "metadata": {},
   "outputs": [
    {
     "data": {
      "text/html": [
       "<div>\n",
       "<style scoped>\n",
       "    .dataframe tbody tr th:only-of-type {\n",
       "        vertical-align: middle;\n",
       "    }\n",
       "\n",
       "    .dataframe tbody tr th {\n",
       "        vertical-align: top;\n",
       "    }\n",
       "\n",
       "    .dataframe thead th {\n",
       "        text-align: right;\n",
       "    }\n",
       "</style>\n",
       "<table border=\"1\" class=\"dataframe\">\n",
       "  <thead>\n",
       "    <tr style=\"text-align: right;\">\n",
       "      <th></th>\n",
       "      <th>gender</th>\n",
       "      <th>age</th>\n",
       "      <th>hypertension</th>\n",
       "      <th>heart_disease</th>\n",
       "      <th>ever_married</th>\n",
       "      <th>work_type</th>\n",
       "      <th>Residence_type</th>\n",
       "      <th>avg_glucose_level</th>\n",
       "      <th>bmi</th>\n",
       "      <th>smoking_status</th>\n",
       "      <th>stroke</th>\n",
       "    </tr>\n",
       "  </thead>\n",
       "  <tbody>\n",
       "    <tr>\n",
       "      <th>0</th>\n",
       "      <td>Male</td>\n",
       "      <td>58.0</td>\n",
       "      <td>1</td>\n",
       "      <td>0</td>\n",
       "      <td>Yes</td>\n",
       "      <td>Private</td>\n",
       "      <td>Urban</td>\n",
       "      <td>87.96</td>\n",
       "      <td>39.2</td>\n",
       "      <td>never smoked</td>\n",
       "      <td>0</td>\n",
       "    </tr>\n",
       "    <tr>\n",
       "      <th>1</th>\n",
       "      <td>Female</td>\n",
       "      <td>70.0</td>\n",
       "      <td>0</td>\n",
       "      <td>0</td>\n",
       "      <td>Yes</td>\n",
       "      <td>Private</td>\n",
       "      <td>Rural</td>\n",
       "      <td>69.04</td>\n",
       "      <td>35.9</td>\n",
       "      <td>formerly smoked</td>\n",
       "      <td>0</td>\n",
       "    </tr>\n",
       "    <tr>\n",
       "      <th>2</th>\n",
       "      <td>Female</td>\n",
       "      <td>52.0</td>\n",
       "      <td>0</td>\n",
       "      <td>0</td>\n",
       "      <td>Yes</td>\n",
       "      <td>Private</td>\n",
       "      <td>Urban</td>\n",
       "      <td>77.59</td>\n",
       "      <td>17.7</td>\n",
       "      <td>formerly smoked</td>\n",
       "      <td>0</td>\n",
       "    </tr>\n",
       "    <tr>\n",
       "      <th>3</th>\n",
       "      <td>Female</td>\n",
       "      <td>75.0</td>\n",
       "      <td>0</td>\n",
       "      <td>1</td>\n",
       "      <td>Yes</td>\n",
       "      <td>Self-employed</td>\n",
       "      <td>Rural</td>\n",
       "      <td>243.53</td>\n",
       "      <td>27.0</td>\n",
       "      <td>never smoked</td>\n",
       "      <td>0</td>\n",
       "    </tr>\n",
       "    <tr>\n",
       "      <th>4</th>\n",
       "      <td>Female</td>\n",
       "      <td>32.0</td>\n",
       "      <td>0</td>\n",
       "      <td>0</td>\n",
       "      <td>Yes</td>\n",
       "      <td>Private</td>\n",
       "      <td>Rural</td>\n",
       "      <td>77.67</td>\n",
       "      <td>32.3</td>\n",
       "      <td>smokes</td>\n",
       "      <td>0</td>\n",
       "    </tr>\n",
       "  </tbody>\n",
       "</table>\n",
       "</div>"
      ],
      "text/plain": [
       "   gender   age  hypertension  heart_disease ever_married      work_type  \\\n",
       "0    Male  58.0             1              0          Yes        Private   \n",
       "1  Female  70.0             0              0          Yes        Private   \n",
       "2  Female  52.0             0              0          Yes        Private   \n",
       "3  Female  75.0             0              1          Yes  Self-employed   \n",
       "4  Female  32.0             0              0          Yes        Private   \n",
       "\n",
       "  Residence_type  avg_glucose_level   bmi   smoking_status  stroke  \n",
       "0          Urban              87.96  39.2     never smoked       0  \n",
       "1          Rural              69.04  35.9  formerly smoked       0  \n",
       "2          Urban              77.59  17.7  formerly smoked       0  \n",
       "3          Rural             243.53  27.0     never smoked       0  \n",
       "4          Rural              77.67  32.3           smokes       0  "
      ]
     },
     "execution_count": 314,
     "metadata": {},
     "output_type": "execute_result"
    }
   ],
   "source": [
    "df.head()"
   ]
  },
  {
   "cell_type": "code",
   "execution_count": 315,
   "id": "172721f4-9cd4-4006-9340-e98102893b46",
   "metadata": {},
   "outputs": [
    {
     "data": {
      "text/html": [
       "<div>\n",
       "<style scoped>\n",
       "    .dataframe tbody tr th:only-of-type {\n",
       "        vertical-align: middle;\n",
       "    }\n",
       "\n",
       "    .dataframe tbody tr th {\n",
       "        vertical-align: top;\n",
       "    }\n",
       "\n",
       "    .dataframe thead th {\n",
       "        text-align: right;\n",
       "    }\n",
       "</style>\n",
       "<table border=\"1\" class=\"dataframe\">\n",
       "  <thead>\n",
       "    <tr style=\"text-align: right;\">\n",
       "      <th></th>\n",
       "      <th>count</th>\n",
       "      <th>mean</th>\n",
       "      <th>std</th>\n",
       "      <th>min</th>\n",
       "      <th>25%</th>\n",
       "      <th>50%</th>\n",
       "      <th>75%</th>\n",
       "      <th>max</th>\n",
       "    </tr>\n",
       "  </thead>\n",
       "  <tbody>\n",
       "    <tr>\n",
       "      <th>age</th>\n",
       "      <td>29065.0</td>\n",
       "      <td>47.676174</td>\n",
       "      <td>18.732941</td>\n",
       "      <td>10.00</td>\n",
       "      <td>32.00</td>\n",
       "      <td>48.00</td>\n",
       "      <td>62.00</td>\n",
       "      <td>82.00</td>\n",
       "    </tr>\n",
       "    <tr>\n",
       "      <th>hypertension</th>\n",
       "      <td>29065.0</td>\n",
       "      <td>0.111509</td>\n",
       "      <td>0.314766</td>\n",
       "      <td>0.00</td>\n",
       "      <td>0.00</td>\n",
       "      <td>0.00</td>\n",
       "      <td>0.00</td>\n",
       "      <td>1.00</td>\n",
       "    </tr>\n",
       "    <tr>\n",
       "      <th>heart_disease</th>\n",
       "      <td>29065.0</td>\n",
       "      <td>0.052159</td>\n",
       "      <td>0.222351</td>\n",
       "      <td>0.00</td>\n",
       "      <td>0.00</td>\n",
       "      <td>0.00</td>\n",
       "      <td>0.00</td>\n",
       "      <td>1.00</td>\n",
       "    </tr>\n",
       "    <tr>\n",
       "      <th>avg_glucose_level</th>\n",
       "      <td>29065.0</td>\n",
       "      <td>106.405639</td>\n",
       "      <td>45.272453</td>\n",
       "      <td>55.01</td>\n",
       "      <td>77.63</td>\n",
       "      <td>92.13</td>\n",
       "      <td>113.91</td>\n",
       "      <td>291.05</td>\n",
       "    </tr>\n",
       "    <tr>\n",
       "      <th>bmi</th>\n",
       "      <td>29065.0</td>\n",
       "      <td>30.054684</td>\n",
       "      <td>7.193951</td>\n",
       "      <td>10.10</td>\n",
       "      <td>25.00</td>\n",
       "      <td>28.90</td>\n",
       "      <td>33.90</td>\n",
       "      <td>92.00</td>\n",
       "    </tr>\n",
       "    <tr>\n",
       "      <th>stroke</th>\n",
       "      <td>29065.0</td>\n",
       "      <td>0.018854</td>\n",
       "      <td>0.136013</td>\n",
       "      <td>0.00</td>\n",
       "      <td>0.00</td>\n",
       "      <td>0.00</td>\n",
       "      <td>0.00</td>\n",
       "      <td>1.00</td>\n",
       "    </tr>\n",
       "  </tbody>\n",
       "</table>\n",
       "</div>"
      ],
      "text/plain": [
       "                     count        mean        std    min    25%    50%  \\\n",
       "age                29065.0   47.676174  18.732941  10.00  32.00  48.00   \n",
       "hypertension       29065.0    0.111509   0.314766   0.00   0.00   0.00   \n",
       "heart_disease      29065.0    0.052159   0.222351   0.00   0.00   0.00   \n",
       "avg_glucose_level  29065.0  106.405639  45.272453  55.01  77.63  92.13   \n",
       "bmi                29065.0   30.054684   7.193951  10.10  25.00  28.90   \n",
       "stroke             29065.0    0.018854   0.136013   0.00   0.00   0.00   \n",
       "\n",
       "                      75%     max  \n",
       "age                 62.00   82.00  \n",
       "hypertension         0.00    1.00  \n",
       "heart_disease        0.00    1.00  \n",
       "avg_glucose_level  113.91  291.05  \n",
       "bmi                 33.90   92.00  \n",
       "stroke               0.00    1.00  "
      ]
     },
     "execution_count": 315,
     "metadata": {},
     "output_type": "execute_result"
    }
   ],
   "source": [
    "df.describe().T"
   ]
  },
  {
   "cell_type": "code",
   "execution_count": 316,
   "id": "d35bc398-a2a4-495f-9e4c-2282c7a5e564",
   "metadata": {},
   "outputs": [
    {
     "name": "stdout",
     "output_type": "stream",
     "text": [
      "<class 'pandas.core.frame.DataFrame'>\n",
      "RangeIndex: 29065 entries, 0 to 29064\n",
      "Data columns (total 11 columns):\n",
      " #   Column             Non-Null Count  Dtype  \n",
      "---  ------             --------------  -----  \n",
      " 0   gender             29065 non-null  object \n",
      " 1   age                29065 non-null  float64\n",
      " 2   hypertension       29065 non-null  int64  \n",
      " 3   heart_disease      29065 non-null  int64  \n",
      " 4   ever_married       29065 non-null  object \n",
      " 5   work_type          29065 non-null  object \n",
      " 6   Residence_type     29065 non-null  object \n",
      " 7   avg_glucose_level  29065 non-null  float64\n",
      " 8   bmi                29065 non-null  float64\n",
      " 9   smoking_status     29065 non-null  object \n",
      " 10  stroke             29065 non-null  int64  \n",
      "dtypes: float64(3), int64(3), object(5)\n",
      "memory usage: 2.4+ MB\n"
     ]
    }
   ],
   "source": [
    "df.info()"
   ]
  },
  {
   "cell_type": "code",
   "execution_count": 317,
   "id": "5f7be726-3316-42d4-946a-e68bb5ade9a4",
   "metadata": {},
   "outputs": [
    {
     "data": {
      "text/plain": [
       "gender               False\n",
       "age                  False\n",
       "hypertension         False\n",
       "heart_disease        False\n",
       "ever_married         False\n",
       "work_type            False\n",
       "Residence_type       False\n",
       "avg_glucose_level    False\n",
       "bmi                  False\n",
       "smoking_status       False\n",
       "stroke               False\n",
       "dtype: bool"
      ]
     },
     "execution_count": 317,
     "metadata": {},
     "output_type": "execute_result"
    }
   ],
   "source": [
    "df.isnull().any() # good, we don't have missing data"
   ]
  },
  {
   "cell_type": "code",
   "execution_count": 318,
   "id": "6fda0a1e-344d-46e6-95af-fec787c5ef89",
   "metadata": {},
   "outputs": [],
   "source": [
    "# let's first see if the target column is balanced or not"
   ]
  },
  {
   "cell_type": "code",
   "execution_count": 319,
   "id": "474337c0-44af-498a-a8f4-b71f0f92bf75",
   "metadata": {},
   "outputs": [
    {
     "data": {
      "image/png": "[encoded data removed]",
      "text/plain": [
       "<Figure size 720x360 with 1 Axes>"
      ]
     },
     "metadata": {
      "needs_background": "light"
     },
     "output_type": "display_data"
    }
   ],
   "source": [
    "plt.figure(figsize=(10,5))\n",
    "sns.countplot(x='stroke', data=df); # we can see our target column is very unbalanced"
   ]
  },
  {
   "cell_type": "code",
   "execution_count": 320,
   "id": "1ea10f78-e36b-47cd-835b-20bf09e617f1",
   "metadata": {},
   "outputs": [
    {
     "data": {
      "text/plain": [
       "Index(['gender', 'ever_married', 'work_type', 'Residence_type',\n",
       "       'smoking_status'],\n",
       "      dtype='object')"
      ]
     },
     "execution_count": 320,
     "metadata": {},
     "output_type": "execute_result"
    }
   ],
   "source": [
    "df.select_dtypes(exclude=np.number).columns #let's get the non-numeric columns"
   ]
  },
  {
   "cell_type": "code",
   "execution_count": 321,
   "id": "99c30c6b-a6fe-47d2-af7f-3eee279e6093",
   "metadata": {},
   "outputs": [],
   "source": [
    "stroke = df[df['stroke']==1] # since this is a very imbalanced data, let's just look at the people with cancer"
   ]
  },
  {
   "cell_type": "code",
   "execution_count": 322,
   "id": "1ed94017-da77-4bea-8bbf-86a5ab77c86f",
   "metadata": {},
   "outputs": [
    {
     "name": "stderr",
     "output_type": "stream",
     "text": [
      "/Users/david/opt/anaconda3/lib/python3.9/site-packages/seaborn/_decorators.py:36: FutureWarning: Pass the following variable as a keyword arg: x. From version 0.12, the only valid positional argument will be `data`, and passing other arguments without an explicit keyword will result in an error or misinterpretation.\n",
      "  warnings.warn(\n"
     ]
    },
    {
     "data": {
      "image/png": "[encoded data removed]",
      "text/plain": [
       "<Figure size 720x360 with 1 Axes>"
      ]
     },
     "metadata": {
      "needs_background": "light"
     },
     "output_type": "display_data"
    }
   ],
   "source": [
    "plt.figure(figsize=(10,5))\n",
    "sns.countplot('stroke', hue='gender', data=stroke); # seems like more females get stroke than males"
   ]
  },
  {
   "cell_type": "code",
   "execution_count": 323,
   "id": "61ff9c6b-018f-4361-96c8-0ce8c68e478b",
   "metadata": {},
   "outputs": [
    {
     "name": "stderr",
     "output_type": "stream",
     "text": [
      "/Users/david/opt/anaconda3/lib/python3.9/site-packages/seaborn/_decorators.py:36: FutureWarning: Pass the following variable as a keyword arg: x. From version 0.12, the only valid positional argument will be `data`, and passing other arguments without an explicit keyword will result in an error or misinterpretation.\n",
      "  warnings.warn(\n"
     ]
    },
    {
     "data": {
      "image/png": "[encoded data removed]",
      "text/plain": [
       "<Figure size 720x360 with 1 Axes>"
      ]
     },
     "metadata": {
      "needs_background": "light"
     },
     "output_type": "display_data"
    }
   ],
   "source": [
    "plt.figure(figsize=(10,5))\n",
    "sns.countplot('stroke', hue='ever_married', data=stroke); ## married people tend to have stroke, ohhh no!!!!"
   ]
  },
  {
   "cell_type": "code",
   "execution_count": 324,
   "id": "7d9ffe9d-b9b2-426a-9d80-3056b946a278",
   "metadata": {},
   "outputs": [
    {
     "data": {
      "text/plain": [
       "29065"
      ]
     },
     "execution_count": 324,
     "metadata": {},
     "output_type": "execute_result"
    }
   ],
   "source": [
    "len(df)"
   ]
  },
  {
   "cell_type": "code",
   "execution_count": 325,
   "id": "49ac8bce-fa66-4c86-929d-7ead0baad662",
   "metadata": {},
   "outputs": [
    {
     "name": "stderr",
     "output_type": "stream",
     "text": [
      "/Users/david/opt/anaconda3/lib/python3.9/site-packages/seaborn/_decorators.py:36: FutureWarning: Pass the following variable as a keyword arg: x. From version 0.12, the only valid positional argument will be `data`, and passing other arguments without an explicit keyword will result in an error or misinterpretation.\n",
      "  warnings.warn(\n"
     ]
    },
    {
     "data": {
      "image/png": "[encoded data removed]",
      "text/plain": [
       "<Figure size 720x360 with 1 Axes>"
      ]
     },
     "metadata": {
      "needs_background": "light"
     },
     "output_type": "display_data"
    }
   ],
   "source": [
    "plt.figure(figsize=(10,5))\n",
    "sns.countplot('stroke', hue='work_type', data=stroke); "
   ]
  },
  {
   "cell_type": "code",
   "execution_count": 326,
   "id": "6e95b03d-fd0e-4261-8b2e-1c13bb975ce1",
   "metadata": {},
   "outputs": [
    {
     "name": "stderr",
     "output_type": "stream",
     "text": [
      "/Users/david/opt/anaconda3/lib/python3.9/site-packages/seaborn/_decorators.py:36: FutureWarning: Pass the following variable as a keyword arg: x. From version 0.12, the only valid positional argument will be `data`, and passing other arguments without an explicit keyword will result in an error or misinterpretation.\n",
      "  warnings.warn(\n"
     ]
    },
    {
     "data": {
      "image/png": "[encoded data removed]",
      "text/plain": [
       "<Figure size 720x360 with 1 Axes>"
      ]
     },
     "metadata": {
      "needs_background": "light"
     },
     "output_type": "display_data"
    }
   ],
   "source": [
    "plt.figure(figsize=(10,5))\n",
    "sns.countplot('stroke', hue='Residence_type', data=stroke); # there is no too much difference in terms of residence_type"
   ]
  },
  {
   "cell_type": "code",
   "execution_count": 327,
   "id": "d93bdcbe-5c76-40f3-bc17-7e86ad8d65fc",
   "metadata": {},
   "outputs": [
    {
     "name": "stderr",
     "output_type": "stream",
     "text": [
      "/Users/david/opt/anaconda3/lib/python3.9/site-packages/seaborn/_decorators.py:36: FutureWarning: Pass the following variable as a keyword arg: x. From version 0.12, the only valid positional argument will be `data`, and passing other arguments without an explicit keyword will result in an error or misinterpretation.\n",
      "  warnings.warn(\n"
     ]
    },
    {
     "data": {
      "image/png": "[encoded data removed]",
      "text/plain": [
       "<Figure size 720x360 with 1 Axes>"
      ]
     },
     "metadata": {
      "needs_background": "light"
     },
     "output_type": "display_data"
    }
   ],
   "source": [
    "plt.figure(figsize=(10,5))\n",
    "sns.countplot('stroke', hue='smoking_status', data=stroke); # ok this is suprising"
   ]
  },
  {
   "cell_type": "code",
   "execution_count": 328,
   "id": "5f723e3d-18a3-415e-b34b-f2af01b76275",
   "metadata": {},
   "outputs": [],
   "source": [
    "# now, let's see the correlation with the numeric columns"
   ]
  },
  {
   "cell_type": "code",
   "execution_count": 329,
   "id": "19cba784-1fab-4b62-b50c-a1761aec9a0d",
   "metadata": {},
   "outputs": [
    {
     "data": {
      "image/png": "[encoded data removed]",
      "text/plain": [
       "<Figure size 432x288 with 1 Axes>"
      ]
     },
     "metadata": {
      "needs_background": "light"
     },
     "output_type": "display_data"
    }
   ],
   "source": [
    "df.corr()['stroke'][:-1].sort_values().plot(kind='bar'); # bmi is not really correlated with stroke, we can go ahead and drop it"
   ]
  },
  {
   "cell_type": "code",
   "execution_count": 330,
   "id": "54294237-42df-481e-bdd4-bc78c48bb77a",
   "metadata": {},
   "outputs": [],
   "source": [
    "df = df.drop('bmi', axis=1).copy()"
   ]
  },
  {
   "cell_type": "markdown",
   "id": "426d3a6a-d534-4a72-b0f0-dd04b4efa0e7",
   "metadata": {},
   "source": [
    "# Feature engineering "
   ]
  },
  {
   "cell_type": "code",
   "execution_count": 331,
   "id": "b24b0619-dae2-4a38-97cd-242ecf96886b",
   "metadata": {},
   "outputs": [],
   "source": [
    "scaler = {'Male':1, 'Female':0}"
   ]
  },
  {
   "cell_type": "code",
   "execution_count": 332,
   "id": "efc34a97-d356-4584-94e3-cc4f63b1f7fc",
   "metadata": {},
   "outputs": [],
   "source": [
    "df['gender']=df['gender'].replace(scaler)"
   ]
  },
  {
   "cell_type": "code",
   "execution_count": 333,
   "id": "74d18ac8-1981-486d-975c-b2d4356a7db1",
   "metadata": {},
   "outputs": [],
   "source": [
    "scaler2 = {'Yes':1, 'No':0}"
   ]
  },
  {
   "cell_type": "code",
   "execution_count": 334,
   "id": "eea75b4f-b87d-45a2-9c01-4c95d26dd21f",
   "metadata": {},
   "outputs": [],
   "source": [
    "df['ever_married'] = df['ever_married'].replace(scaler2)"
   ]
  },
  {
   "cell_type": "code",
   "execution_count": 335,
   "id": "caeb5ddd-0b5e-40e7-95db-4004114c0df2",
   "metadata": {},
   "outputs": [],
   "source": [
    "scaler3 = {'Urban':1, 'Rural':0}"
   ]
  },
  {
   "cell_type": "code",
   "execution_count": 336,
   "id": "3081c1cf-1031-4d05-b804-9ec102185808",
   "metadata": {},
   "outputs": [],
   "source": [
    "df['Residence_type'] = df['Residence_type'].replace(scaler3)"
   ]
  },
  {
   "cell_type": "code",
   "execution_count": 337,
   "id": "0ffb5fd5-0382-447b-99cf-3c2e3413dde9",
   "metadata": {},
   "outputs": [
    {
     "data": {
      "text/html": [
       "<div>\n",
       "<style scoped>\n",
       "    .dataframe tbody tr th:only-of-type {\n",
       "        vertical-align: middle;\n",
       "    }\n",
       "\n",
       "    .dataframe tbody tr th {\n",
       "        vertical-align: top;\n",
       "    }\n",
       "\n",
       "    .dataframe thead th {\n",
       "        text-align: right;\n",
       "    }\n",
       "</style>\n",
       "<table border=\"1\" class=\"dataframe\">\n",
       "  <thead>\n",
       "    <tr style=\"text-align: right;\">\n",
       "      <th></th>\n",
       "      <th>gender</th>\n",
       "      <th>age</th>\n",
       "      <th>hypertension</th>\n",
       "      <th>heart_disease</th>\n",
       "      <th>ever_married</th>\n",
       "      <th>work_type</th>\n",
       "      <th>Residence_type</th>\n",
       "      <th>avg_glucose_level</th>\n",
       "      <th>smoking_status</th>\n",
       "      <th>stroke</th>\n",
       "    </tr>\n",
       "  </thead>\n",
       "  <tbody>\n",
       "    <tr>\n",
       "      <th>0</th>\n",
       "      <td>1</td>\n",
       "      <td>58.0</td>\n",
       "      <td>1</td>\n",
       "      <td>0</td>\n",
       "      <td>1</td>\n",
       "      <td>Private</td>\n",
       "      <td>1</td>\n",
       "      <td>87.96</td>\n",
       "      <td>never smoked</td>\n",
       "      <td>0</td>\n",
       "    </tr>\n",
       "    <tr>\n",
       "      <th>1</th>\n",
       "      <td>0</td>\n",
       "      <td>70.0</td>\n",
       "      <td>0</td>\n",
       "      <td>0</td>\n",
       "      <td>1</td>\n",
       "      <td>Private</td>\n",
       "      <td>0</td>\n",
       "      <td>69.04</td>\n",
       "      <td>formerly smoked</td>\n",
       "      <td>0</td>\n",
       "    </tr>\n",
       "    <tr>\n",
       "      <th>2</th>\n",
       "      <td>0</td>\n",
       "      <td>52.0</td>\n",
       "      <td>0</td>\n",
       "      <td>0</td>\n",
       "      <td>1</td>\n",
       "      <td>Private</td>\n",
       "      <td>1</td>\n",
       "      <td>77.59</td>\n",
       "      <td>formerly smoked</td>\n",
       "      <td>0</td>\n",
       "    </tr>\n",
       "    <tr>\n",
       "      <th>3</th>\n",
       "      <td>0</td>\n",
       "      <td>75.0</td>\n",
       "      <td>0</td>\n",
       "      <td>1</td>\n",
       "      <td>1</td>\n",
       "      <td>Self-employed</td>\n",
       "      <td>0</td>\n",
       "      <td>243.53</td>\n",
       "      <td>never smoked</td>\n",
       "      <td>0</td>\n",
       "    </tr>\n",
       "    <tr>\n",
       "      <th>4</th>\n",
       "      <td>0</td>\n",
       "      <td>32.0</td>\n",
       "      <td>0</td>\n",
       "      <td>0</td>\n",
       "      <td>1</td>\n",
       "      <td>Private</td>\n",
       "      <td>0</td>\n",
       "      <td>77.67</td>\n",
       "      <td>smokes</td>\n",
       "      <td>0</td>\n",
       "    </tr>\n",
       "  </tbody>\n",
       "</table>\n",
       "</div>"
      ],
      "text/plain": [
       "   gender   age  hypertension  heart_disease  ever_married      work_type  \\\n",
       "0       1  58.0             1              0             1        Private   \n",
       "1       0  70.0             0              0             1        Private   \n",
       "2       0  52.0             0              0             1        Private   \n",
       "3       0  75.0             0              1             1  Self-employed   \n",
       "4       0  32.0             0              0             1        Private   \n",
       "\n",
       "   Residence_type  avg_glucose_level   smoking_status  stroke  \n",
       "0               1              87.96     never smoked       0  \n",
       "1               0              69.04  formerly smoked       0  \n",
       "2               1              77.59  formerly smoked       0  \n",
       "3               0             243.53     never smoked       0  \n",
       "4               0              77.67           smokes       0  "
      ]
     },
     "execution_count": 337,
     "metadata": {},
     "output_type": "execute_result"
    }
   ],
   "source": [
    "df.head() # let's check the data again, now we only have two categorical columns that are not numeric, let's use get_dummies"
   ]
  },
  {
   "cell_type": "code",
   "execution_count": 338,
   "id": "178754b6-775a-4972-a0f7-990c2efe0d8d",
   "metadata": {},
   "outputs": [],
   "source": [
    "df = pd.get_dummies(df) # now  we are ready to build our model"
   ]
  },
  {
   "cell_type": "markdown",
   "id": "08d25c98-d552-40ae-8262-57dcc77d4fe3",
   "metadata": {},
   "source": [
    "# Build and train a model "
   ]
  },
  {
   "cell_type": "code",
   "execution_count": 409,
   "id": "0b71c73e-2800-4621-8b3f-a88af79e2985",
   "metadata": {},
   "outputs": [],
   "source": [
    "X=df.drop('stroke', axis=1).values\n",
    "y=df['stroke'].values"
   ]
  },
  {
   "cell_type": "code",
   "execution_count": 410,
   "id": "ca2a4797-1959-473e-9255-14b50c8eacff",
   "metadata": {},
   "outputs": [],
   "source": [
    "from sklearn.ensemble import RandomForestClassifier\n",
    "from sklearn.model_selection import train_test_split\n",
    "from sklearn.linear_model import LogisticRegression"
   ]
  },
  {
   "cell_type": "code",
   "execution_count": 411,
   "id": "d4f03142-8b20-47db-8c4c-681a219078ef",
   "metadata": {},
   "outputs": [],
   "source": [
    "stroke = np.where(df['stroke']==1)[0]\n",
    "no_stroke = np.where(df['stroke']==0)[0]"
   ]
  },
  {
   "cell_type": "code",
   "execution_count": 412,
   "id": "c49b3524-e5af-4d91-9e4d-bb4561f5d4c9",
   "metadata": {},
   "outputs": [
    {
     "data": {
      "text/plain": [
       "548"
      ]
     },
     "execution_count": 412,
     "metadata": {},
     "output_type": "execute_result"
    }
   ],
   "source": [
    "len(stroke)"
   ]
  },
  {
   "cell_type": "code",
   "execution_count": 413,
   "id": "f287640e-9f85-4df6-a7f3-27c90a2489d0",
   "metadata": {},
   "outputs": [
    {
     "data": {
      "text/plain": [
       "28517"
      ]
     },
     "execution_count": 413,
     "metadata": {},
     "output_type": "execute_result"
    }
   ],
   "source": [
    "len(no_stroke)"
   ]
  },
  {
   "cell_type": "code",
   "execution_count": 414,
   "id": "2990b0e4-f5af-4cef-ac6c-acf1cae4fd8f",
   "metadata": {},
   "outputs": [],
   "source": [
    "forest = RandomForestClassifier(class_weight={0:52, 1:1})"
   ]
  },
  {
   "cell_type": "code",
   "execution_count": 415,
   "id": "4e4b0ee5-5b8c-4db2-a8f7-84351430253c",
   "metadata": {},
   "outputs": [],
   "source": [
    "Xtrain, Xtest, ytrain, ytest = train_test_split(X,y, stratify=y, test_size=0.3, random_state=42)"
   ]
  },
  {
   "cell_type": "code",
   "execution_count": 416,
   "id": "0e46db86-db1b-4a1b-ad43-159d0c7a9bb7",
   "metadata": {},
   "outputs": [
    {
     "data": {
      "text/plain": [
       "RandomForestClassifier(class_weight={0: 52, 1: 1})"
      ]
     },
     "execution_count": 416,
     "metadata": {},
     "output_type": "execute_result"
    }
   ],
   "source": [
    "forest.fit(Xtrain, ytrain)"
   ]
  },
  {
   "cell_type": "markdown",
   "id": "7ed09ab4-0606-4fd6-b944-c5f4dffb61a2",
   "metadata": {},
   "source": [
    "# Evaluation of the model"
   ]
  },
  {
   "cell_type": "code",
   "execution_count": 417,
   "id": "cce192a4-dfd0-45d8-a2fc-d833e40332b5",
   "metadata": {},
   "outputs": [],
   "source": [
    "from sklearn.metrics import confusion_matrix, classification_report"
   ]
  },
  {
   "cell_type": "code",
   "execution_count": 418,
   "id": "1354a2c3-ca2e-490b-afed-6f6884250703",
   "metadata": {},
   "outputs": [],
   "source": [
    "predict = forest.predict(Xtest)"
   ]
  },
  {
   "cell_type": "code",
   "execution_count": 419,
   "id": "d2758c23-05f8-456a-ba3d-e9c14ffad000",
   "metadata": {},
   "outputs": [
    {
     "data": {
      "text/plain": [
       "array([[8538,   18],\n",
       "       [ 161,    3]])"
      ]
     },
     "execution_count": 419,
     "metadata": {},
     "output_type": "execute_result"
    }
   ],
   "source": [
    "confusion_matrix(ytest, predict)"
   ]
  },
  {
   "cell_type": "code",
   "execution_count": 420,
   "id": "689bf93f-c22a-4ea3-b76b-ace39c4c8a44",
   "metadata": {},
   "outputs": [
    {
     "name": "stdout",
     "output_type": "stream",
     "text": [
      "              precision    recall  f1-score   support\n",
      "\n",
      "           0       0.98      1.00      0.99      8556\n",
      "           1       0.14      0.02      0.03       164\n",
      "\n",
      "    accuracy                           0.98      8720\n",
      "   macro avg       0.56      0.51      0.51      8720\n",
      "weighted avg       0.97      0.98      0.97      8720\n",
      "\n"
     ]
    }
   ],
   "source": [
    "print(classification_report(ytest, predict))"
   ]
  },
  {
   "cell_type": "code",
   "execution_count": null,
   "id": "ad1d2db5-8ef6-412c-849a-f8ca5cd175bd",
   "metadata": {},
   "outputs": [],
   "source": [
    "# this model does bad in predicting the unbalanced dataset, we can see from the precision, recall score for 1 class\n",
    "# For class 0, this model does a great job. "
   ]
  }
 ],
 "metadata": {
  "kernelspec": {
   "display_name": "Python 3 (ipykernel)",
   "language": "python",
   "name": "python3"
  },
  "language_info": {
   "codemirror_mode": {
    "name": "ipython",
    "version": 3
   },
   "file_extension": ".py",
   "mimetype": "text/x-python",
   "name": "python",
   "nbconvert_exporter": "python",
   "pygments_lexer": "ipython3",
   "version": "3.9.7"
  }
 },
 "nbformat": 4,
 "nbformat_minor": 5
}
